{
 "cells": [
  {
   "cell_type": "code",
   "execution_count": 1,
   "id": "327ab652",
   "metadata": {},
   "outputs": [],
   "source": [
    "import os\n",
    "from datetime import datetime, timedelta\n",
    "\n",
    "EXA_API_KEY = os.getenv(\"EXA_API_KEY\")"
   ]
  },
  {
   "cell_type": "code",
   "execution_count": 2,
   "id": "7db05b70",
   "metadata": {},
   "outputs": [],
   "source": [
    "from exa_py import Exa\n",
    "\n",
    "exa = Exa(EXA_API_KEY)"
   ]
  },
  {
   "cell_type": "code",
   "execution_count": 3,
   "id": "b1634e7a",
   "metadata": {},
   "outputs": [
    {
     "name": "stdout",
     "output_type": "stream",
     "text": [
      "URLs:\n",
      "https://phys.org/news/2025-04-quantum-behaviors-1d-reshape-material.html\n",
      "https://phys.org/news/2025-04-hemispherical-mirror-technique-results-quantum.html\n",
      "https://phys.org/news/2025-04-physicists-quantum-theory-atomic-nuclei.html\n",
      "https://phys.org/news/2025-04-physics-theory-energy-quantum-quasicrystals.html\n",
      "https://phys.org/news/2025-04-year-mystery-dissonance-black-holes.html\n",
      "https://physics.aps.org/articles/v18/s47\n",
      "https://phys.org/news/2025-04-reciprocal-coulomb-chern-insulators.html\n",
      "https://phys.org/news/2025-05-strong-charming-particle.html\n",
      "https://physicsworld.com/a/new-research-suggests-gravity-might-emerge-from-quantum-information-theory/\n",
      "https://phys.org/news/2025-04-fluoro-wall-tunneling-effect-heavy.html\n"
     ]
    }
   ],
   "source": [
    "search_query = \"Recent physics discoveries this week\" # you can use ChatGPT to generate a search query\n",
    "\n",
    "one_week_ago = (datetime.now() - timedelta(days=7)) # cutoff date of one week ago\n",
    "date_cutoff = one_week_ago.strftime(\"%Y-%m-%d\") # format date as YYYY-MM-DD as required by Exa API\n",
    "\n",
    "search_response = exa.search_and_contents(\n",
    "    search_query, start_published_date=date_cutoff\n",
    ") # there are more functions available in the Exa API!\n",
    "\n",
    "urls = [result.url for result in search_response.results]\n",
    "print(\"URLs:\")\n",
    "for url in urls:\n",
    "    print(url)"
   ]
  },
  {
   "cell_type": "code",
   "execution_count": 4,
   "id": "fe243cc9",
   "metadata": {},
   "outputs": [
    {
     "name": "stdout",
     "output_type": "stream",
     "text": [
      "Title: New quantum behaviors found in 1D systems reshape understanding of material properties\n",
      "URL: https://phys.org/news/2025-04-quantum-behaviors-1d-reshape-material.html\n",
      "ID: https://phys.org/news/2025-04-quantum-behaviors-1d-reshape-material.html\n",
      "Score: 0.39296427369117737\n",
      "Published Date: 2025-04-30T00:00:00.000Z\n",
      "Author: Breck Carter\n",
      "Image: https://scx2.b-cdn.net/gfx/news/2025/quantum-behaviors-behi.jpg\n",
      "Favicon: https://phys.b-cdn.net/favicon.ico\n",
      "Extras: None\n",
      "Subpages: None\n",
      "Text: \n",
      " \n",
      " \n",
      " \n",
      "Residues (a1, b1 and c1) and the impurity spectral functions (a2, b2 and c2, in units of t −1) as a function of the energy E N+1 − E FS,N or ω, at different momentum as indicated. Credit: arXiv: DOI: 10.48550/arxiv.2411.17895\n",
      " \n",
      " Swinburne researchers have discovered unexpected and entirely new quantum behaviors that only occur in one-dimensional systems, such as electrical current. Their new paper, published in Physical Review Letters, explores a fundamental question in quantum physics: what happens when a single \"impurity\" particle, such as an atom or electron, is introduced into a tightly packed crowd of identical particles. \n",
      " Nearly every material in the world contains small imperfections or extra particles; understanding how these \"outsiders\" interact with their environment is key to figuring out how materials conduct electricity, create light, or respond to external forces. \n",
      " A team at the Center for Quantum Technology Theory at Swinburne studied this in the setting of a one-dimensional optical lattice (a kind of artificial crystal made with laser light) using a well-known theoretical framework called the Fermi-Hubbard model. \n",
      " \"This research is particularly important for technologies like solar panels, LEDs, and transistors, where added particles often carry electrical charge,\" co-author and quantum expert Swinburne's Dr. Jia Wang says. \"Whether these particles move freely or get 'stuck' depends on how they interact with their surroundings on a quantum level.\" \n",
      " \"A related everyday example could be how electrons move through materials while interacting with their environment. This interaction underpins how electric current flows through wires—something we rely on daily for powering devices. Our work helps us to understand this process at a very fundamental level, particularly in new or emerging materials.\" \n",
      " The discovery of unexpected and entirely new quantum behaviors in one dimension is revolutionary in this field of work. \n",
      " In higher dimensions (like 2D or 3D), these interactions tend to produce well-understood collective effects, which appear as sharp peaks in spectroscopic measurements. These peaks are associated with \"polarons,\" where the impurity and its environment behave like a single new particle. \n",
      " Dr. Wang explains that in 1D, quantum effects become far more dramatic. \n",
      " \"The crowd reacts in ways that blur those sharp peaks, creating what we call anomalous Fermi singularities. These are like new quantum fingerprints: unique signatures showing that particles in 1D follow very different rules.\" \n",
      " \"Another key aspect of our study is that our method is exact—a rare and valuable achievement in the world of quantum many-body physics. Exact solutions are crucial because they serve as benchmarks for both theoretical approximations and real-world experiments. They help researchers test and refine quantum simulators, which are tools used to model complex materials and systems with unprecedented control.\" \n",
      " Dr. Wang says the findings deepen our understanding of how quantum systems behave in low dimensions, with implications that reach from fundamental physics to the design of future quantum materials and devices. \n",
      " \"This provides a benchmark for future studies and lays the groundwork for future developments in quantum physics and our understanding of the universe.\" \n",
      " \n",
      " More information: \n",
      "Hui Hu et al, Exact Spectral Properties of Fermi Polarons in One-Dimensional Lattices: Anomalous Fermi Singularities and Polaron Quasiparticles, Physical Review Letters (2025). DOI: 10.1103/PhysRevLett.134.153403. On arXiv: DOI: 10.48550/arxiv.2411.17895 \n",
      " \n",
      " \n",
      " \n",
      " Citation:\n",
      "New quantum behaviors found in 1D systems reshape understanding of material properties (2025, April 30)\n",
      "retrieved 1 May 2025\n",
      "from https://phys.org/news/2025-04-quantum-behaviors-1d-reshape-material.html\n",
      " \n",
      " \n",
      "This document is subject to copyright. Apart from any fair dealing for the purpose of private study or research, no\n",
      "part may be reproduced without the written permission. The content is provided for information purposes only.\n",
      " \n",
      " \n",
      "\n",
      "Highlights: None\n",
      "Highlight Scores: None\n",
      "Summary: None\n",
      "\n"
     ]
    }
   ],
   "source": [
    "print(search_response.results[0]) # example of a full result"
   ]
  },
  {
   "cell_type": "code",
   "execution_count": null,
   "id": "31677204",
   "metadata": {},
   "outputs": [],
   "source": []
  }
 ],
 "metadata": {
  "kernelspec": {
   "display_name": "hackathon",
   "language": "python",
   "name": "python3"
  },
  "language_info": {
   "codemirror_mode": {
    "name": "ipython",
    "version": 3
   },
   "file_extension": ".py",
   "mimetype": "text/x-python",
   "name": "python",
   "nbconvert_exporter": "python",
   "pygments_lexer": "ipython3",
   "version": "3.11.0"
  }
 },
 "nbformat": 4,
 "nbformat_minor": 5
}
